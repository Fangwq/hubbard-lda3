{
 "metadata": {
  "name": "",
  "signature": "sha256:8df65b9a53bedab75fff97a0f417ae569a815ca5dc8f4570633b6ce4fe5eebda"
 },
 "nbformat": 3,
 "nbformat_minor": 0,
 "worksheets": [
  {
   "cells": [
    {
     "cell_type": "code",
     "collapsed": false,
     "input": [
      "# Start matplotlib\n",
      "from matplotlib import rc\n",
      "rc('text', usetex=True)\n",
      "plt.rcParams['text.latex.preamble'] = [\n",
      "       r'\\usepackage{bm}',        # for bold math\n",
      "       r'\\usepackage{siunitx}',   # i need upright \\micro symbols, but you need...\n",
      "       r'\\sisetup{detect-all}',   # ...this to force siunitx to actually use your fonts\n",
      "       r'\\usepackage[textlf]{MyriadPro}',\n",
      "       #r'\\usepackage{helvet}',    # set the normal font here\n",
      "       r'\\usepackage{sansmath}',  # load up the sansmath so that math -> helvet\n",
      "       r'\\sansmath',               # <- tricky! -- gotta actually tell tex to use!\n",
      "       #r'\\renewcommand{\\familydefault}{\\sfdefault}'\n",
      "]    \n",
      "plt.rcParams['axes.linewidth'] = 0.65\n",
      "plt.rcParams['patch.linewidth'] = 0.5\n",
      "\n",
      "fig = plt.figure(figsize=(6.8, 2.6))\n",
      "gs = matplotlib.gridspec.GridSpec( 1,2, wspace=0.40, hspace=0.12,\\\n",
      "                    top=0.96, left=0.06, right=0.94, bottom=0.16)\n",
      "\n",
      "ax0l = fig.add_subplot( gs[0] )\n",
      "ax0r = ax0l.twinx() \n",
      "\n",
      "ax1l = fig.add_subplot( gs[1] )\n",
      "ax1r = ax1l.twinx() \n",
      "\n",
      "\n",
      "import pickle\n",
      "fpck = 'dataplots/THERM/290/aS290_gr3.700_mu0.078_T0.530.pck' \n",
      "spis = pickle.load( open( fpck, \"rb\" ) )\n",
      "\n",
      "c2 = 'black'\n",
      "\n",
      "ax0l.plot( spis['r111'], spis['n111'], color='blue')\n",
      "ax0r.plot( spis['r111'], spis['v0111'], color=c2)\n",
      "ax1l.plot( spis['r111'], spis['t111']*29., color='blue' )\n",
      "ax1r.plot( spis['r111'], spis['U111'], color=c2, label=r'$U/t$' )\n",
      "#ax1r.plot( spis['r111'], spis['mut111'], '--', color='green', label=r'$\\mu/t$')\n",
      "\n",
      "\n",
      "ax0l.spines['left'].set_color('blue')\n",
      "ax0r.spines['right'].set_color(c2)\n",
      "ax0l.tick_params(axis='y', colors='blue')\n",
      "ax0r.tick_params(axis='y', colors=c2)\n",
      "\n",
      "ax1l.spines['left'].set_color('blue')\n",
      "ax1r.spines['right'].set_color(c2)\n",
      "ax1l.tick_params(axis='y', colors='blue')\n",
      "ax1r.tick_params(axis='y', colors=c2)\n",
      "\n",
      "ax0l.set_ylabel(r'$n$', color='blue')\n",
      "ax0r.set_ylabel(r'$v\\ (E_{r})$', color=c2)\n",
      "ax1l.set_ylabel(r'$t\\ (\\mathrm{kHz})$', color='blue')\n",
      "ax1r.set_ylabel(r'$U/t$', color=c2)\n",
      "ax0l.set_xlabel(r'$r\\ (\\si{\\micro\\metre})$')\n",
      "ax1l.set_xlabel(r'$r\\ (\\si{\\micro\\metre})$')\n",
      "\n",
      "ax0l.set_ylim(-0.1, 1.25)\n",
      "ax0r.set_ylim(0., 7.5) \n",
      "ax1l.set_ylim(1., 2.8)\n",
      "ax1r.set_ylim(0., 12.5) \n",
      "\n",
      "ax1l.yaxis.set_major_locator( matplotlib.ticker.MaxNLocator(6) )\n",
      "\n",
      "for ax in [ax0l, ax0r, ax1l, ax1r]:\n",
      "    ax.set_xlim(0., 31.)\n",
      "\n",
      "print spis.keys()\n",
      "\n",
      "print spis['mu111_Er']\n",
      "\n",
      "fig.savefig( 'dataplots/HubbardProfiles.png', dpi=350)"
     ],
     "language": "python",
     "metadata": {},
     "outputs": [
      {
       "output_type": "stream",
       "stream": "stdout",
       "text": [
        "['gr', 'k111', 't111', 'muPlus', 'spi111', 'U111', 'entrbulk', 'spi111_fine', 'aS', 'n111', 'r111_fine', 'dens111', 'n111_fine', 'SpiBulk', 'Tdens', 'mu111_Er', 'k111_fine', 'savedir', 'v0111', 'SthBulk', 'k111htse_list', 'mut111', 'Number', 'entr111', 'sth111', 'r111', 'Tspi', 'ldanum']\n",
        "None\n"
       ]
      },
      {
       "metadata": {},
       "output_type": "display_data",
       "png": "[encoded data removed]",
       "text": [
        "<matplotlib.figure.Figure at 0x7f2465bfec50>"
       ]
      }
     ],
     "prompt_number": 1
    },
    {
     "cell_type": "code",
     "collapsed": false,
     "input": [],
     "language": "python",
     "metadata": {},
     "outputs": []
    }
   ],
   "metadata": {}
  }
 ]
}